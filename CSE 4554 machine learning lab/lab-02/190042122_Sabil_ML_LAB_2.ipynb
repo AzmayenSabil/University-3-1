{
  "nbformat": 4,
  "nbformat_minor": 0,
  "metadata": {
    "colab": {
      "provenance": [],
      "collapsed_sections": []
    },
    "kernelspec": {
      "name": "python3",
      "display_name": "Python 3"
    },
    "accelerator": "GPU"
  },
  "cells": [
    {
      "cell_type": "code",
      "metadata": {
        "id": "E_JD8mqHPI7b"
      },
      "source": [
        "from sklearn.model_selection import train_test_split\n",
        "import pandas as pd\n",
        "import matplotlib.pyplot as plt\n",
        "from sklearn.neighbors import KNeighborsClassifier\n",
        "import  numpy as np"
      ],
      "execution_count": 1,
      "outputs": []
    },
    {
      "cell_type": "markdown",
      "metadata": {
        "id": "0L_YpyY4XPAC"
      },
      "source": [
        "# Starting Machine Learning / Deep Learning!!\n"
      ]
    },
    {
      "cell_type": "code",
      "metadata": {
        "id": "fq60cpbOVox8",
        "outputId": "1eeb6348-6fd7-438d-c57a-c2b8d30cd64a",
        "colab": {
          "base_uri": "https://localhost:8080/"
        }
      },
      "source": [
        "print('Booting into Machine Learning....')"
      ],
      "execution_count": 2,
      "outputs": [
        {
          "output_type": "stream",
          "name": "stdout",
          "text": [
            "Booting into Machine Learning....\n"
          ]
        }
      ]
    },
    {
      "cell_type": "code",
      "metadata": {
        "id": "PYGdBg4LPRdN",
        "outputId": "0ea038db-d336-46ac-9fce-1512381619a1",
        "colab": {
          "base_uri": "https://localhost:8080/"
        }
      },
      "source": [
        "from google.colab import drive\n",
        "drive.mount('/content/drive')\n"
      ],
      "execution_count": 3,
      "outputs": [
        {
          "output_type": "stream",
          "name": "stdout",
          "text": [
            "Drive already mounted at /content/drive; to attempt to forcibly remount, call drive.mount(\"/content/drive\", force_remount=True).\n"
          ]
        }
      ]
    },
    {
      "cell_type": "code",
      "metadata": {
        "id": "z0OFqg2fPeMq",
        "colab": {
          "base_uri": "https://localhost:8080/"
        },
        "outputId": "63fcd375-ae80-41d0-bfb8-4dfeefe5a4df"
      },
      "source": [
        "import pandas as pd\n",
        "\n",
        "file = r'/content/drive/My Drive/ML Lab/House_Area_Data.xlsx'\n",
        "df = pd.read_excel(file)\n",
        "print(df)\n"
      ],
      "execution_count": 9,
      "outputs": [
        {
          "output_type": "stream",
          "name": "stdout",
          "text": [
            "     Area     Price  Sold\n",
            "0   300.0   81374.0   1.0\n",
            "1   300.0   90000.0   1.0\n",
            "2   300.0   96089.0   1.0\n",
            "3   300.0   98089.0   1.0\n",
            "4   300.0  105000.0   0.0\n",
            "5   300.0  110000.0   0.0\n",
            "6   300.0  118000.0   0.0\n",
            "7   300.0  120000.0   0.0\n",
            "8   300.0  130000.0   0.0\n",
            "9   300.0  140000.0   0.0\n",
            "10  400.0   81374.0   1.0\n",
            "11  400.0   90000.0   1.0\n",
            "12  400.0   98089.0   1.0\n",
            "13  400.0  105000.0   1.0\n",
            "14  400.0  118000.0   1.0\n",
            "15  400.0  120000.0   0.0\n",
            "16  400.0  130000.0   0.0\n",
            "17  400.0  140000.0   0.0\n",
            "18  450.0   83300.0   1.0\n",
            "19  450.0  140200.0   1.0\n",
            "20  450.0  151349.0   1.0\n",
            "21  450.0  191399.0   0.0\n",
            "22  450.0  201349.0   0.0\n",
            "23  500.0  101324.0   1.0\n",
            "24  500.0  104324.0   1.0\n",
            "25  500.0  111324.0   1.0\n",
            "26  500.0  131324.0   1.0\n",
            "27  500.0  151324.0   1.0\n",
            "28  500.0  180000.0   0.0\n",
            "29  500.0  191324.0   0.0\n",
            "30  500.0  211324.0   0.0\n",
            "31  550.0  140500.0   1.0\n",
            "32  550.0  165002.0   1.0\n",
            "33  550.0  175103.0   1.0\n",
            "34  550.0  191431.0   1.0\n",
            "35  550.0  210131.0   0.0\n",
            "36  550.0  230131.0   0.0\n",
            "37  550.0  221299.0   0.0\n",
            "38  550.0  241299.0   0.0\n",
            "39  600.0  210000.0   1.0\n",
            "40  600.0  220040.0   1.0\n",
            "41  600.0  228999.0   1.0\n",
            "42  600.0  241219.0   1.0\n",
            "43  600.0  252101.0   0.0\n",
            "44  600.0  251211.0   0.0\n",
            "45  600.0  260081.0   0.0\n",
            "46  600.0  365211.0   0.0\n",
            "47  600.0  271211.0   0.0\n",
            "48  600.0  280081.0   0.0\n",
            "49  600.0  301211.0   0.0\n"
          ]
        }
      ]
    },
    {
      "cell_type": "markdown",
      "source": [
        "**TASK-2**"
      ],
      "metadata": {
        "id": "YzYXdawNjDBA"
      }
    },
    {
      "cell_type": "code",
      "source": [
        "##plotting the dataset\n",
        "import matplotlib.pyplot as plt\n",
        "import numpy as np\n",
        "\n",
        "#type(df)\n",
        "x = pd.read_excel(file, index_col=None, usecols=\"A\")\n",
        "y = pd.read_excel(file, index_col=None, usecols=\"B\")\n",
        "\n",
        "df1 = df[df['Sold'] == 0]\n",
        "df2 = df[df['Sold'] == 1]\n",
        "\n",
        "plt.figure()\n",
        "plt.scatter(df1['Area'], df1['Price'], color=\"RED\")\n",
        "plt.scatter(df2['Area'], df2['Price'], color=\"BLUE\")\n"
      ],
      "metadata": {
        "colab": {
          "base_uri": "https://localhost:8080/",
          "height": 283
        },
        "id": "1RbJ75e9jF8V",
        "outputId": "df6b7700-b41d-4d77-8ae8-2030ae5f9a8f"
      },
      "execution_count": 16,
      "outputs": [
        {
          "output_type": "execute_result",
          "data": {
            "text/plain": [
              "<matplotlib.collections.PathCollection at 0x7f07aeb9dd90>"
            ]
          },
          "metadata": {},
          "execution_count": 16
        },
        {
          "output_type": "display_data",
          "data": {
            "text/plain": [
              "<Figure size 432x288 with 1 Axes>"
            ],
            "image/png": "[encoded data removed]"
          },
          "metadata": {
            "needs_background": "light"
          }
        }
      ]
    },
    {
      "cell_type": "markdown",
      "source": [
        "**TASK-3**"
      ],
      "metadata": {
        "id": "ysbS9p6BuI1B"
      }
    },
    {
      "cell_type": "code",
      "source": [
        "print(df.mean())\n",
        "print(df.median())\n",
        "#print(df.stdev())\n",
        "#print(df.variance())"
      ],
      "metadata": {
        "colab": {
          "base_uri": "https://localhost:8080/"
        },
        "id": "QnKS48DvuMSM",
        "outputId": "a50fcbbf-9539-4192-8990-d3efb5f087aa"
      },
      "execution_count": 18,
      "outputs": [
        {
          "output_type": "stream",
          "name": "stdout",
          "text": [
            "Area        469.00\n",
            "Price    167542.82\n",
            "Sold          0.50\n",
            "dtype: float64\n",
            "Area        500.0\n",
            "Price    145912.0\n",
            "Sold          0.5\n",
            "dtype: float64\n"
          ]
        }
      ]
    },
    {
      "cell_type": "code",
      "metadata": {
        "id": "7nQqg0ZuVC-r"
      },
      "source": [
        "# K-Nearest Neighbors (K-NN)\n",
        "X = \n",
        "y = \n",
        "\n",
        "print(X)\n",
        "print(y)"
      ],
      "execution_count": null,
      "outputs": []
    },
    {
      "cell_type": "code",
      "metadata": {
        "id": "ynBE3SF2VDBc"
      },
      "source": [
        "# Splitting the dataset into the Training set and Test set\n",
        "X_train, X_test, y_train, y_test = train_test_split()\n",
        "\n",
        "print(X_train)"
      ],
      "execution_count": null,
      "outputs": []
    },
    {
      "cell_type": "code",
      "metadata": {
        "id": "gIVd0u3YVDEJ"
      },
      "source": [
        "# Feature Scaling\n",
        "from sklearn.preprocessing import StandardScaler\n",
        "sc = StandardScaler()\n",
        "X_train = \n",
        "X_test = \n",
        "\n",
        "print(X_train)"
      ],
      "execution_count": null,
      "outputs": []
    },
    {
      "cell_type": "markdown",
      "metadata": {
        "id": "H0wq-mqyP_u-"
      },
      "source": [
        " **Function for Score**"
      ]
    },
    {
      "cell_type": "code",
      "metadata": {
        "id": "QjQg6ax7PpZ0"
      },
      "source": [
        "def get_score(model, X_train, X_test, y_train, y_test):\n",
        "    "
      ],
      "execution_count": null,
      "outputs": []
    },
    {
      "cell_type": "markdown",
      "metadata": {
        "id": "n0Xzo5EbP5Z-"
      },
      "source": [
        "**k fold Cross Validation using digits dataset. Use the current dataset you are working with.**\n"
      ]
    },
    {
      "cell_type": "code",
      "metadata": {
        "id": "z-xIWx0kQKLq"
      },
      "source": [
        "from sklearn.model_selection import StratifiedKFold # 5 fold\n",
        "folds = StratifiedKFold(n_splits=3)\n",
        "\n",
        "scores_logistic = []\n",
        "\n",
        "for train_index, test_index in folds.split(digits.data,digits.target):\n",
        "    X_train, X_test, y_train, y_test = digits.data[train_index], digits.data[test_index], \\\n",
        "                                       digits.target[train_index], digits.target[test_index]\n",
        "    scores_logistic.append(get_score(LogisticRegression(solver='liblinear',multi_class='ovr'), X_train, X_test, y_train, y_test))  \n",
        "    "
      ],
      "execution_count": null,
      "outputs": []
    },
    {
      "cell_type": "code",
      "metadata": {
        "id": "QDQMYOaaVDKO"
      },
      "source": [
        "# Fitting K-NN to the Training set\n",
        "\n",
        "classifier = KNeighborsClassifier()\n",
        "classifier.fit()\n"
      ],
      "execution_count": null,
      "outputs": []
    },
    {
      "cell_type": "code",
      "metadata": {
        "id": "KuuRdK6BVDM9"
      },
      "source": [
        "# Predicting the Test set results\n",
        "y_pred = classifier.predict()\n",
        "print('y_pred',y_pred)\n",
        "print('y_test',y_test)"
      ],
      "execution_count": null,
      "outputs": []
    },
    {
      "cell_type": "code",
      "metadata": {
        "id": "VXrAvZVxVD4Z"
      },
      "source": [
        "#MODEL EVALUATION STEP\n",
        "# Making the Confusion Matrix\n",
        "from sklearn.metrics import confusion_matrix\n",
        "cm = \n",
        "print(cm)"
      ],
      "execution_count": null,
      "outputs": []
    },
    {
      "cell_type": "code",
      "metadata": {
        "id": "ieKJ39NXOM3S"
      },
      "source": [
        "import seaborn as sns\n",
        "import pandas as pd\n",
        "import matplotlib.pyplot as plt\n",
        "%matplotlib inline\n",
        "sns.set(font_scale=2)"
      ],
      "execution_count": null,
      "outputs": []
    },
    {
      "cell_type": "markdown",
      "metadata": {
        "id": "MJwRchm6O2iQ"
      },
      "source": [
        "**Implement the Confusion Matrix using your own modified Dataset** -->This is just a demo"
      ]
    },
    {
      "cell_type": "code",
      "metadata": {
        "id": "7uKnGfw5OkPg"
      },
      "source": [
        " array = [[5,0,0,0],  # when input was A, prediction was all A\n",
        "         [0,10,0,0], # when input was B, prediction was all A\n",
        "         [0,0,15,0], # when input was C, prediction was all A\n",
        "         [0,0,0,5]]  # when input was D, prediction was all A\n",
        "df_cm = pd.DataFrame(array, index = [i for i in \"ABCD\"],\n",
        "                  columns = [i for i in \"ABCD\"])\n",
        "plt.figure(figsize = (10,7))\n",
        "plt.title('confusion matrix without confusion')\n",
        "sns.heatmap(df_cm, annot=True)"
      ],
      "execution_count": null,
      "outputs": []
    }
  ]
}