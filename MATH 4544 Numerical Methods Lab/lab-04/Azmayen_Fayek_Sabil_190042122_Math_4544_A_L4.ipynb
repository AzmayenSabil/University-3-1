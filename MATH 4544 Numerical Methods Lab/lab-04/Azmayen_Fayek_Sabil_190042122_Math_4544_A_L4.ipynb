{
  "nbformat": 4,
  "nbformat_minor": 0,
  "metadata": {
    "colab": {
      "provenance": [],
      "collapsed_sections": []
    },
    "kernelspec": {
      "name": "python3",
      "display_name": "Python 3"
    },
    "language_info": {
      "name": "python"
    }
  },
  "cells": [
    {
      "cell_type": "markdown",
      "source": [
        "# **Lab 4 : Linear Regression**<br>\n",
        "\n",
        "Regression is the process of estimating a model that produces the best fit for the given data. **Linear Regression** is the simplest and most popular among them. A linear regression model is given by y = a<sub>0</sub> + a<sub>1</sub>x, where a<sub>0</sub> and a<sub>1</sub> are the parameters of the regression model. The values of these two parameters should be such that the produced result of (a<sub>0</sub> + a<sub>1</sub>x) should have the least deviation from the actual result. In order to measure how well our model fits the data or whether it deviates from the actual result, we use the least square criterion.\n",
        "\n",
        "In today's lab, we will be implementing the Linear Regression in python. Note that there might be built-in functions for linear regression in python, but the purpose of this lab is to understand how linear regression actually works, and hence those built-in functions are not allowed. To test our implementation, we will be using the same data that is available in the first example of our class lecture pdf. That way, you can check whether your implementation is working correctly by comparing with the results obtained in that example. Run the following cell to load the known data points:\n"
      ],
      "metadata": {
        "id": "Dex_lDl5gUKB"
      }
    },
    {
      "cell_type": "code",
      "source": [
        "theta = [0.698132, 0.959931, 1.134464, 1.570796, 1.919862]\n",
        "torque = [0.18824, 0.209138, 0.230052, 0.250965, 0.313707]"
      ],
      "metadata": {
        "id": "_QpvT2CYjART"
      },
      "execution_count": null,
      "outputs": []
    },
    {
      "cell_type": "markdown",
      "source": [
        "##Task 1\n",
        "Assuming that the linear regression model for the given data is defined as Torque = a<sub>0</sub> + a<sub>1</sub>*Theta, write a function that takes the given data as input and returns the regression parameters a<sub>0</sub> and a<sub>1</sub>."
      ],
      "metadata": {
        "id": "_XU-vXFFzj4T"
      }
    },
    {
      "cell_type": "code",
      "source": [
        "def LinearRegression(theta, torque):\n",
        "  #Write your implementation here\n",
        "  thetaSquare = [0] * len(theta)\n",
        "  torqueTheta = [0] * len(torque)\n",
        "  k1, k2 = 0, 0\n",
        "\n",
        "  for i in range(len(theta)):\n",
        "    thetaSquare[i] = theta[i]*theta[i]\n",
        "\n",
        "  for i in range(len(torque)):\n",
        "    torqueTheta[i] = torque[i]*theta[i]\n",
        "\n",
        "  sumTheta, sumTorque, sumThetaSquare, sumTorqueTheta = 0, 0, 0, 0\n",
        "\n",
        "  for i in range(len(theta)):\n",
        "    sumTheta = sumTheta + theta[i]\n",
        "    sumTorque = sumTorque + torque[i]\n",
        "    sumThetaSquare = sumThetaSquare + thetaSquare[i]\n",
        "    sumTorqueTheta = sumTorqueTheta + torqueTheta[i]\n",
        "\n",
        "  k2 = ((len(theta) * sumTorqueTheta) - (sumTheta*sumTorque))/(len(theta)*sumThetaSquare - (sumTheta*sumTheta))\n",
        "  k1 =  (sumTorque/len(torque)) - k2*(sumTheta/len(theta))\n",
        "\n",
        "  #print(thetaSquare)\n",
        "  #print(torqueTheta)\n",
        "  #print(sumTheta, sumTorque, sumThetaSquare, sumTorqueTheta)\n",
        "  #print(k1,k2)\n",
        "\n",
        "  return k1, k2\n",
        "\n",
        "k1, k2 = LinearRegression(theta, torque)\n",
        "print(k1, k2)\n",
        "\n",
        "  "
      ],
      "metadata": {
        "id": "xv0ziIB60ET8",
        "colab": {
          "base_uri": "https://localhost:8080/"
        },
        "outputId": "85a871c9-ca35-4b81-a7cf-bcbdc9c3745f"
      },
      "execution_count": null,
      "outputs": [
        {
          "output_type": "stream",
          "name": "stdout",
          "text": [
            "0.11768012662481926 0.09608206138700416\n"
          ]
        }
      ]
    },
    {
      "cell_type": "markdown",
      "source": [
        "##Task 2\n",
        "Write another function that takes any arbitrary value as input and applies the regression model to generate the output. "
      ],
      "metadata": {
        "id": "GzKLR0nkj32g"
      }
    },
    {
      "cell_type": "code",
      "source": [
        "def calculate(x):\n",
        "  #Write your implementation here\n",
        "  k1, k2 = LinearRegression(theta, torque)\n",
        "  \n",
        "  res = k1+(k2*x)\n",
        "\n",
        "  return res\n",
        "\n",
        "\n",
        "ans = calculate(0.69)\n",
        "print(ans)\n",
        "  \n"
      ],
      "metadata": {
        "id": "2m1trUT_k5pi",
        "colab": {
          "base_uri": "https://localhost:8080/"
        },
        "outputId": "1fb696f3-4e90-43d7-a865-a0a0ee011f89"
      },
      "execution_count": null,
      "outputs": [
        {
          "output_type": "stream",
          "name": "stdout",
          "text": [
            "0.18397674898185212\n"
          ]
        }
      ]
    },
    {
      "cell_type": "markdown",
      "source": [
        "##Task 3\n",
        "Use the calculate function in a loop to generate a plot of the regression curve. Show the original data points (theta, torque) on the same plot using stem function. Use different colors for the regression curve and the original data points and show a legend. For this task, you are allowed to use various libraries such as matplotlib."
      ],
      "metadata": {
        "id": "HhsqLMYYpD8S"
      }
    },
    {
      "cell_type": "code",
      "source": [
        "import matplotlib.pyplot as plt\n",
        "\n",
        "#Write your code here for generating the plot\n",
        "\n",
        "new_theta = [min(theta)-0.1, min(theta), max(theta), max(theta)+0.1]\n",
        "new_torque = [0] * len(new_theta)\n",
        "\n",
        "for i in range(len(new_theta)):\n",
        "  new_torque[i] = calculate(new_theta[i])\n",
        "\n",
        "print(new_theta)\n",
        "print(new_torque)\n",
        "\n",
        "plt.plot(new_theta, new_torque)\n",
        "plt.scatter(theta, torque)\n",
        "plt.show()\n",
        "\n",
        "\n"
      ],
      "metadata": {
        "id": "ShRMjjHSm-dq",
        "colab": {
          "base_uri": "https://localhost:8080/",
          "height": 303
        },
        "outputId": "05effb72-01d0-4d95-cd20-4472f5942a5f"
      },
      "execution_count": null,
      "outputs": [
        {
          "output_type": "stream",
          "name": "stdout",
          "text": [
            "[0.598132, 0.698132, 1.919862, 2.019862]\n",
            "[0.17514988216635083, 0.18475808830505125, 0.30214442516339585, 0.31175263130209624]\n"
          ]
        },
        {
          "output_type": "display_data",
          "data": {
            "text/plain": [
              "<Figure size 432x288 with 1 Axes>"
            ],
            "image/png": "[encoded data removed]"
          },
          "metadata": {
            "needs_background": "light"
          }
        }
      ]
    }
  ]
}